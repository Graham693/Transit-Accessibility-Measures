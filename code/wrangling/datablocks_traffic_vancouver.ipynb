{
 "metadata": {
  "language_info": {
   "codemirror_mode": {
    "name": "ipython",
    "version": 3
   },
   "file_extension": ".py",
   "mimetype": "text/x-python",
   "name": "python",
   "nbconvert_exporter": "python",
   "pygments_lexer": "ipython3",
   "version": "3.8.10"
  },
  "orig_nbformat": 2,
  "kernelspec": {
   "name": "python3",
   "display_name": "Python 3.8.10 64-bit ('base': conda)"
  },
  "interpreter": {
   "hash": "e95bd23c58372e532c13f19770ac32345ce14fa00d207afebbf1161aa1e79f4b"
  }
 },
 "nbformat": 4,
 "nbformat_minor": 2,
 "cells": [
  {
   "source": [
    "** Wrangling of traffic data in Vancouver and merging to Datablocks"
   ],
   "cell_type": "markdown",
   "metadata": {}
  },
  {
   "cell_type": "code",
   "execution_count": 1,
   "metadata": {},
   "outputs": [],
   "source": [
    "import pandas as pd\n",
    "import numpy as np"
   ]
  },
  {
   "cell_type": "code",
   "execution_count": 2,
   "metadata": {},
   "outputs": [
    {
     "output_type": "execute_result",
     "data": {
      "text/plain": [
       "                 id metropolitan_area  pop      lat      lon\n",
       "0       10010165001        St. John's  160  47.5300 -52.7765\n",
       "1       10010165002        St. John's   25  47.5290 -52.7793\n",
       "2       10010165006        St. John's  268  47.5265 -52.7768\n",
       "3       10010165007        St. John's   53  47.5263 -52.7726\n",
       "4       10010166001        St. John's   71  47.5268 -52.7730\n",
       "...             ...               ...  ...      ...      ...\n",
       "489671  62080028007               NaN  112  68.6235 -95.8734\n",
       "489672  62080028008               NaN    0  68.6232 -95.8756\n",
       "489673  62080028009               NaN   75  68.6230 -95.8369\n",
       "489674  62080028010               NaN   47  68.6151 -95.8479\n",
       "489675  62080028011               NaN   39  68.6204 -95.8743\n",
       "\n",
       "[489676 rows x 5 columns]"
      ],
      "text/html": "<div>\n<style scoped>\n    .dataframe tbody tr th:only-of-type {\n        vertical-align: middle;\n    }\n\n    .dataframe tbody tr th {\n        vertical-align: top;\n    }\n\n    .dataframe thead th {\n        text-align: right;\n    }\n</style>\n<table border=\"1\" class=\"dataframe\">\n  <thead>\n    <tr style=\"text-align: right;\">\n      <th></th>\n      <th>id</th>\n      <th>metropolitan_area</th>\n      <th>pop</th>\n      <th>lat</th>\n      <th>lon</th>\n    </tr>\n  </thead>\n  <tbody>\n    <tr>\n      <th>0</th>\n      <td>10010165001</td>\n      <td>St. John's</td>\n      <td>160</td>\n      <td>47.5300</td>\n      <td>-52.7765</td>\n    </tr>\n    <tr>\n      <th>1</th>\n      <td>10010165002</td>\n      <td>St. John's</td>\n      <td>25</td>\n      <td>47.5290</td>\n      <td>-52.7793</td>\n    </tr>\n    <tr>\n      <th>2</th>\n      <td>10010165006</td>\n      <td>St. John's</td>\n      <td>268</td>\n      <td>47.5265</td>\n      <td>-52.7768</td>\n    </tr>\n    <tr>\n      <th>3</th>\n      <td>10010165007</td>\n      <td>St. John's</td>\n      <td>53</td>\n      <td>47.5263</td>\n      <td>-52.7726</td>\n    </tr>\n    <tr>\n      <th>4</th>\n      <td>10010166001</td>\n      <td>St. John's</td>\n      <td>71</td>\n      <td>47.5268</td>\n      <td>-52.7730</td>\n    </tr>\n    <tr>\n      <th>...</th>\n      <td>...</td>\n      <td>...</td>\n      <td>...</td>\n      <td>...</td>\n      <td>...</td>\n    </tr>\n    <tr>\n      <th>489671</th>\n      <td>62080028007</td>\n      <td>NaN</td>\n      <td>112</td>\n      <td>68.6235</td>\n      <td>-95.8734</td>\n    </tr>\n    <tr>\n      <th>489672</th>\n      <td>62080028008</td>\n      <td>NaN</td>\n      <td>0</td>\n      <td>68.6232</td>\n      <td>-95.8756</td>\n    </tr>\n    <tr>\n      <th>489673</th>\n      <td>62080028009</td>\n      <td>NaN</td>\n      <td>75</td>\n      <td>68.6230</td>\n      <td>-95.8369</td>\n    </tr>\n    <tr>\n      <th>489674</th>\n      <td>62080028010</td>\n      <td>NaN</td>\n      <td>47</td>\n      <td>68.6151</td>\n      <td>-95.8479</td>\n    </tr>\n    <tr>\n      <th>489675</th>\n      <td>62080028011</td>\n      <td>NaN</td>\n      <td>39</td>\n      <td>68.6204</td>\n      <td>-95.8743</td>\n    </tr>\n  </tbody>\n</table>\n<p>489676 rows × 5 columns</p>\n</div>"
     },
     "metadata": {},
     "execution_count": 2
    }
   ],
   "source": [
    "DBs = pd.read_csv('../../data/raw/DBs.csv')\n",
    "DBs = DBs[['DBUID','CMANAME','DBPOP','lat','lon']]\n",
    "DBs = DBs.rename(columns = {'DBUID':'id', 'CMANAME':'metropolitan_area', 'DBPOP':'pop'})\n",
    "\n",
    "DBs"
   ]
  },
  {
   "cell_type": "code",
   "execution_count": 3,
   "metadata": {},
   "outputs": [
    {
     "output_type": "execute_result",
     "data": {
      "text/plain": [
       "                 id  pop      lat       lon\n",
       "442430  59150004004   35  49.3739 -123.2738\n",
       "442431  59150004005   50  49.3746 -123.2757\n",
       "442432  59150004006   94  49.3738 -123.2763\n",
       "442433  59150004011    0  49.3735 -123.2725\n",
       "442434  59150004012    0  49.3725 -123.2729\n",
       "...             ...  ...      ...       ...\n",
       "457622  59154055002    0  49.0044 -122.4774\n",
       "457623  59154055003    0  49.0036 -122.4762\n",
       "457624  59154055004  386  49.0029 -122.4757\n",
       "457625  59154055005    0  49.0062 -122.4772\n",
       "457626  59154056001   85  49.0053 -122.4748\n",
       "\n",
       "[15197 rows x 4 columns]"
      ],
      "text/html": "<div>\n<style scoped>\n    .dataframe tbody tr th:only-of-type {\n        vertical-align: middle;\n    }\n\n    .dataframe tbody tr th {\n        vertical-align: top;\n    }\n\n    .dataframe thead th {\n        text-align: right;\n    }\n</style>\n<table border=\"1\" class=\"dataframe\">\n  <thead>\n    <tr style=\"text-align: right;\">\n      <th></th>\n      <th>id</th>\n      <th>pop</th>\n      <th>lat</th>\n      <th>lon</th>\n    </tr>\n  </thead>\n  <tbody>\n    <tr>\n      <th>442430</th>\n      <td>59150004004</td>\n      <td>35</td>\n      <td>49.3739</td>\n      <td>-123.2738</td>\n    </tr>\n    <tr>\n      <th>442431</th>\n      <td>59150004005</td>\n      <td>50</td>\n      <td>49.3746</td>\n      <td>-123.2757</td>\n    </tr>\n    <tr>\n      <th>442432</th>\n      <td>59150004006</td>\n      <td>94</td>\n      <td>49.3738</td>\n      <td>-123.2763</td>\n    </tr>\n    <tr>\n      <th>442433</th>\n      <td>59150004011</td>\n      <td>0</td>\n      <td>49.3735</td>\n      <td>-123.2725</td>\n    </tr>\n    <tr>\n      <th>442434</th>\n      <td>59150004012</td>\n      <td>0</td>\n      <td>49.3725</td>\n      <td>-123.2729</td>\n    </tr>\n    <tr>\n      <th>...</th>\n      <td>...</td>\n      <td>...</td>\n      <td>...</td>\n      <td>...</td>\n    </tr>\n    <tr>\n      <th>457622</th>\n      <td>59154055002</td>\n      <td>0</td>\n      <td>49.0044</td>\n      <td>-122.4774</td>\n    </tr>\n    <tr>\n      <th>457623</th>\n      <td>59154055003</td>\n      <td>0</td>\n      <td>49.0036</td>\n      <td>-122.4762</td>\n    </tr>\n    <tr>\n      <th>457624</th>\n      <td>59154055004</td>\n      <td>386</td>\n      <td>49.0029</td>\n      <td>-122.4757</td>\n    </tr>\n    <tr>\n      <th>457625</th>\n      <td>59154055005</td>\n      <td>0</td>\n      <td>49.0062</td>\n      <td>-122.4772</td>\n    </tr>\n    <tr>\n      <th>457626</th>\n      <td>59154056001</td>\n      <td>85</td>\n      <td>49.0053</td>\n      <td>-122.4748</td>\n    </tr>\n  </tbody>\n</table>\n<p>15197 rows × 4 columns</p>\n</div>"
     },
     "metadata": {},
     "execution_count": 3
    }
   ],
   "source": [
    "DBsVan = DBs[DBs['metropolitan_area'] == 'Vancouver']\n",
    "DBsVan = DBsVan.drop(columns=['metropolitan_area'])\n",
    "\n",
    "DBsVan"
   ]
  },
  {
   "cell_type": "code",
   "execution_count": 6,
   "metadata": {},
   "outputs": [
    {
     "output_type": "execute_result",
     "data": {
      "text/plain": [
       "   STAT  Sort Order  UTVS    SiteNo      TMP  Route  \\\n",
       "0  AADT         1.0   1.0   11-010N  11-010N  Rte 1   \n",
       "1  AADT         2.0  10.0   11-010S  11-010S  Rte 1   \n",
       "2  AADT         3.0   2.0  P-11-1NS  P-11-1N  Rte 1   \n",
       "3  AADT         4.0   9.0  P-11-1NS  P-11-1S  Rte 1   \n",
       "4  AADT         5.0   3.0  P-11-7NS  P-11-7N  Rte 1   \n",
       "\n",
       "                                         Description Direction  LATITUDE  \\\n",
       "0  Route 1 From Tolmie Avenue (Victoria) To Mcken...         E  48.45658   \n",
       "1  Route 1 From Mckenzie Avenue To Tolmie Avenue ...         W  48.45658   \n",
       "2  Route 1 From Mckenzie Avenue To Thetis I/C (Co...         E  48.46267   \n",
       "3         Route 1 From Thetis I/C To Mckenzie Avenue         W  48.46267   \n",
       "4  Route 1 From Thetis I/C To Millstream I/C (O/P...         E  48.46459   \n",
       "\n",
       "   LONGITUDE  ...     2006     2007     2008     2009     2010     2011  \\\n",
       "0  -123.3835  ...      NaN      NaN  18592.0      NaN      NaN      NaN   \n",
       "1  -123.3835  ...      NaN      NaN  20192.0      NaN      NaN      NaN   \n",
       "2  -123.4419  ...  36604.0  37720.0  37504.0  38930.0  40781.0  40125.0   \n",
       "3  -123.4419  ...  37142.0  38214.0  37997.0  39327.0  40820.0  40044.0   \n",
       "4  -123.4759  ...  28036.0  29281.0  28918.0  30197.0  31395.0  31004.0   \n",
       "\n",
       "      2012  2013  2014     2015  \n",
       "0  17020.0   NaN   NaN  21640.0  \n",
       "1  19221.0   NaN   NaN  20713.0  \n",
       "2  39746.0   NaN   NaN  41641.0  \n",
       "3  39940.0   NaN   NaN  41675.0  \n",
       "4  31501.0   NaN   NaN  33017.0  \n",
       "\n",
       "[5 rows x 37 columns]"
      ],
      "text/html": "<div>\n<style scoped>\n    .dataframe tbody tr th:only-of-type {\n        vertical-align: middle;\n    }\n\n    .dataframe tbody tr th {\n        vertical-align: top;\n    }\n\n    .dataframe thead th {\n        text-align: right;\n    }\n</style>\n<table border=\"1\" class=\"dataframe\">\n  <thead>\n    <tr style=\"text-align: right;\">\n      <th></th>\n      <th>STAT</th>\n      <th>Sort Order</th>\n      <th>UTVS</th>\n      <th>SiteNo</th>\n      <th>TMP</th>\n      <th>Route</th>\n      <th>Description</th>\n      <th>Direction</th>\n      <th>LATITUDE</th>\n      <th>LONGITUDE</th>\n      <th>...</th>\n      <th>2006</th>\n      <th>2007</th>\n      <th>2008</th>\n      <th>2009</th>\n      <th>2010</th>\n      <th>2011</th>\n      <th>2012</th>\n      <th>2013</th>\n      <th>2014</th>\n      <th>2015</th>\n    </tr>\n  </thead>\n  <tbody>\n    <tr>\n      <th>0</th>\n      <td>AADT</td>\n      <td>1.0</td>\n      <td>1.0</td>\n      <td>11-010N</td>\n      <td>11-010N</td>\n      <td>Rte 1</td>\n      <td>Route 1 From Tolmie Avenue (Victoria) To Mcken...</td>\n      <td>E</td>\n      <td>48.45658</td>\n      <td>-123.3835</td>\n      <td>...</td>\n      <td>NaN</td>\n      <td>NaN</td>\n      <td>18592.0</td>\n      <td>NaN</td>\n      <td>NaN</td>\n      <td>NaN</td>\n      <td>17020.0</td>\n      <td>NaN</td>\n      <td>NaN</td>\n      <td>21640.0</td>\n    </tr>\n    <tr>\n      <th>1</th>\n      <td>AADT</td>\n      <td>2.0</td>\n      <td>10.0</td>\n      <td>11-010S</td>\n      <td>11-010S</td>\n      <td>Rte 1</td>\n      <td>Route 1 From Mckenzie Avenue To Tolmie Avenue ...</td>\n      <td>W</td>\n      <td>48.45658</td>\n      <td>-123.3835</td>\n      <td>...</td>\n      <td>NaN</td>\n      <td>NaN</td>\n      <td>20192.0</td>\n      <td>NaN</td>\n      <td>NaN</td>\n      <td>NaN</td>\n      <td>19221.0</td>\n      <td>NaN</td>\n      <td>NaN</td>\n      <td>20713.0</td>\n    </tr>\n    <tr>\n      <th>2</th>\n      <td>AADT</td>\n      <td>3.0</td>\n      <td>2.0</td>\n      <td>P-11-1NS</td>\n      <td>P-11-1N</td>\n      <td>Rte 1</td>\n      <td>Route 1 From Mckenzie Avenue To Thetis I/C (Co...</td>\n      <td>E</td>\n      <td>48.46267</td>\n      <td>-123.4419</td>\n      <td>...</td>\n      <td>36604.0</td>\n      <td>37720.0</td>\n      <td>37504.0</td>\n      <td>38930.0</td>\n      <td>40781.0</td>\n      <td>40125.0</td>\n      <td>39746.0</td>\n      <td>NaN</td>\n      <td>NaN</td>\n      <td>41641.0</td>\n    </tr>\n    <tr>\n      <th>3</th>\n      <td>AADT</td>\n      <td>4.0</td>\n      <td>9.0</td>\n      <td>P-11-1NS</td>\n      <td>P-11-1S</td>\n      <td>Rte 1</td>\n      <td>Route 1 From Thetis I/C To Mckenzie Avenue</td>\n      <td>W</td>\n      <td>48.46267</td>\n      <td>-123.4419</td>\n      <td>...</td>\n      <td>37142.0</td>\n      <td>38214.0</td>\n      <td>37997.0</td>\n      <td>39327.0</td>\n      <td>40820.0</td>\n      <td>40044.0</td>\n      <td>39940.0</td>\n      <td>NaN</td>\n      <td>NaN</td>\n      <td>41675.0</td>\n    </tr>\n    <tr>\n      <th>4</th>\n      <td>AADT</td>\n      <td>5.0</td>\n      <td>3.0</td>\n      <td>P-11-7NS</td>\n      <td>P-11-7N</td>\n      <td>Rte 1</td>\n      <td>Route 1 From Thetis I/C To Millstream I/C (O/P...</td>\n      <td>E</td>\n      <td>48.46459</td>\n      <td>-123.4759</td>\n      <td>...</td>\n      <td>28036.0</td>\n      <td>29281.0</td>\n      <td>28918.0</td>\n      <td>30197.0</td>\n      <td>31395.0</td>\n      <td>31004.0</td>\n      <td>31501.0</td>\n      <td>NaN</td>\n      <td>NaN</td>\n      <td>33017.0</td>\n    </tr>\n  </tbody>\n</table>\n<p>5 rows × 37 columns</p>\n</div>"
     },
     "metadata": {},
     "execution_count": 6
    }
   ],
   "source": [
    "traffic_BC = pd.read_csv('../../data/raw/BC_trafic_data_2015_summary.csv')\n",
    "traffic_BC.head()"
   ]
  },
  {
   "cell_type": "code",
   "execution_count": 9,
   "metadata": {},
   "outputs": [
    {
     "output_type": "execute_result",
     "data": {
      "text/plain": [
       "      LATITUDE  LONGITUDE     2015\n",
       "0     48.45658  -123.3835  21640.0\n",
       "1     48.45658  -123.3835  20713.0\n",
       "2     48.46267  -123.4419  41641.0\n",
       "3     48.46267  -123.4419  41675.0\n",
       "4     48.46459  -123.4759  33017.0\n",
       "...        ...        ...      ...\n",
       "1265  54.51048  -126.2991      NaN\n",
       "1266  49.02041  -118.2184   1365.0\n",
       "1267  49.66843  -124.9891  15366.0\n",
       "1268  49.95846  -125.2524   4977.0\n",
       "1269  55.20543  -129.1434      NaN\n",
       "\n",
       "[1270 rows x 3 columns]"
      ],
      "text/html": "<div>\n<style scoped>\n    .dataframe tbody tr th:only-of-type {\n        vertical-align: middle;\n    }\n\n    .dataframe tbody tr th {\n        vertical-align: top;\n    }\n\n    .dataframe thead th {\n        text-align: right;\n    }\n</style>\n<table border=\"1\" class=\"dataframe\">\n  <thead>\n    <tr style=\"text-align: right;\">\n      <th></th>\n      <th>LATITUDE</th>\n      <th>LONGITUDE</th>\n      <th>2015</th>\n    </tr>\n  </thead>\n  <tbody>\n    <tr>\n      <th>0</th>\n      <td>48.45658</td>\n      <td>-123.3835</td>\n      <td>21640.0</td>\n    </tr>\n    <tr>\n      <th>1</th>\n      <td>48.45658</td>\n      <td>-123.3835</td>\n      <td>20713.0</td>\n    </tr>\n    <tr>\n      <th>2</th>\n      <td>48.46267</td>\n      <td>-123.4419</td>\n      <td>41641.0</td>\n    </tr>\n    <tr>\n      <th>3</th>\n      <td>48.46267</td>\n      <td>-123.4419</td>\n      <td>41675.0</td>\n    </tr>\n    <tr>\n      <th>4</th>\n      <td>48.46459</td>\n      <td>-123.4759</td>\n      <td>33017.0</td>\n    </tr>\n    <tr>\n      <th>...</th>\n      <td>...</td>\n      <td>...</td>\n      <td>...</td>\n    </tr>\n    <tr>\n      <th>1265</th>\n      <td>54.51048</td>\n      <td>-126.2991</td>\n      <td>NaN</td>\n    </tr>\n    <tr>\n      <th>1266</th>\n      <td>49.02041</td>\n      <td>-118.2184</td>\n      <td>1365.0</td>\n    </tr>\n    <tr>\n      <th>1267</th>\n      <td>49.66843</td>\n      <td>-124.9891</td>\n      <td>15366.0</td>\n    </tr>\n    <tr>\n      <th>1268</th>\n      <td>49.95846</td>\n      <td>-125.2524</td>\n      <td>4977.0</td>\n    </tr>\n    <tr>\n      <th>1269</th>\n      <td>55.20543</td>\n      <td>-129.1434</td>\n      <td>NaN</td>\n    </tr>\n  </tbody>\n</table>\n<p>1270 rows × 3 columns</p>\n</div>"
     },
     "metadata": {},
     "execution_count": 9
    }
   ],
   "source": [
    "traffic_BC[['LATITUDE','LONGITUDE','2015']]"
   ]
  },
  {
   "cell_type": "code",
   "execution_count": 8,
   "metadata": {},
   "outputs": [],
   "source": [
    "DBsVan.to_csv('../../data/clean/vancouver_db.csv', index=False)"
   ]
  },
  {
   "cell_type": "code",
   "execution_count": null,
   "metadata": {},
   "outputs": [],
   "source": []
  }
 ]
}