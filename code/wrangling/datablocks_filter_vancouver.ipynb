{
 "metadata": {
  "language_info": {
   "codemirror_mode": {
    "name": "ipython",
    "version": 3
   },
   "file_extension": ".py",
   "mimetype": "text/x-python",
   "name": "python",
   "nbconvert_exporter": "python",
   "pygments_lexer": "ipython3",
   "version": "3.8.10"
  },
  "orig_nbformat": 2,
  "kernelspec": {
   "name": "python3",
   "display_name": "Python 3.8.3 64-bit ('base': conda)"
  },
  "interpreter": {
   "hash": "e95bd23c58372e532c13f19770ac32345ce14fa00d207afebbf1161aa1e79f4b"
  }
 },
 "nbformat": 4,
 "nbformat_minor": 2,
 "cells": [
  {
   "source": [
    "** Wrangling of Datablocks"
   ],
   "cell_type": "markdown",
   "metadata": {}
  },
  {
   "cell_type": "code",
   "execution_count": 9,
   "metadata": {},
   "outputs": [],
   "source": [
    "import pandas as pd\n",
    "import numpy as np"
   ]
  },
  {
   "cell_type": "code",
   "execution_count": 3,
   "metadata": {},
   "outputs": [
    {
     "output_type": "execute_result",
     "data": {
      "text/plain": [
       "                 id metropolitan_area  pop      lat      lon prox_emp  \\\n",
       "0       10010165001        St. John's  160  47.5300 -52.7765   0.0202   \n",
       "1       10010165002        St. John's   25  47.5290 -52.7793   0.0193   \n",
       "2       10010165006        St. John's  268  47.5265 -52.7768   0.0199   \n",
       "3       10010165007        St. John's   53  47.5263 -52.7726   0.0204   \n",
       "4       10010166001        St. John's   71  47.5268 -52.7730   0.0204   \n",
       "...             ...               ...  ...      ...      ...      ...   \n",
       "489671  62080028007               NaN  112  68.6235 -95.8734       ..   \n",
       "489672  62080028008               NaN    0  68.6232 -95.8756       ..   \n",
       "489673  62080028009               NaN   75  68.6230 -95.8369       ..   \n",
       "489674  62080028010               NaN   47  68.6151 -95.8479       ..   \n",
       "489675  62080028011               NaN   39  68.6204 -95.8743       ..   \n",
       "\n",
       "       prox_pharma prox_childcare prox_health prox_grocery prox_educpri  \\\n",
       "0           0.0121         0.0402      0.0069           ..       0.0384   \n",
       "1            0.014         0.0257      0.0028           ..       0.0562   \n",
       "2           0.0205         0.0395       0.007           ..       0.0734   \n",
       "3           0.0238         0.0425      0.0074           ..       0.0733   \n",
       "4           0.0238         0.0425      0.0074           ..       0.0735   \n",
       "...            ...            ...         ...          ...          ...   \n",
       "489671          ..             ..          ..           ..           ..   \n",
       "489672          ..             ..          ..           ..           ..   \n",
       "489673          ..             ..          ..           ..           ..   \n",
       "489674          ..             ..          ..           ..           ..   \n",
       "489675          ..             ..          ..           ..           ..   \n",
       "\n",
       "       prox_educsec prox_lib prox_parks prox_transit  \n",
       "0            0.0495   0.0486     0.0141       0.0058  \n",
       "1            0.0375       ..         ..       0.0046  \n",
       "2            0.0436   0.0545         ..       0.0101  \n",
       "3            0.0548   0.0796      0.013       0.0098  \n",
       "4            0.0548   0.0796      0.013       0.0098  \n",
       "...             ...      ...        ...          ...  \n",
       "489671           ..       ..         ..           ..  \n",
       "489672           ..       ..         ..           ..  \n",
       "489673           ..       ..         ..           ..  \n",
       "489674           ..       ..         ..           ..  \n",
       "489675           ..       ..         ..           ..  \n",
       "\n",
       "[489676 rows x 15 columns]"
      ],
      "text/html": "<div>\n<style scoped>\n    .dataframe tbody tr th:only-of-type {\n        vertical-align: middle;\n    }\n\n    .dataframe tbody tr th {\n        vertical-align: top;\n    }\n\n    .dataframe thead th {\n        text-align: right;\n    }\n</style>\n<table border=\"1\" class=\"dataframe\">\n  <thead>\n    <tr style=\"text-align: right;\">\n      <th></th>\n      <th>id</th>\n      <th>metropolitan_area</th>\n      <th>pop</th>\n      <th>lat</th>\n      <th>lon</th>\n      <th>prox_emp</th>\n      <th>prox_pharma</th>\n      <th>prox_childcare</th>\n      <th>prox_health</th>\n      <th>prox_grocery</th>\n      <th>prox_educpri</th>\n      <th>prox_educsec</th>\n      <th>prox_lib</th>\n      <th>prox_parks</th>\n      <th>prox_transit</th>\n    </tr>\n  </thead>\n  <tbody>\n    <tr>\n      <th>0</th>\n      <td>10010165001</td>\n      <td>St. John's</td>\n      <td>160</td>\n      <td>47.5300</td>\n      <td>-52.7765</td>\n      <td>0.0202</td>\n      <td>0.0121</td>\n      <td>0.0402</td>\n      <td>0.0069</td>\n      <td>..</td>\n      <td>0.0384</td>\n      <td>0.0495</td>\n      <td>0.0486</td>\n      <td>0.0141</td>\n      <td>0.0058</td>\n    </tr>\n    <tr>\n      <th>1</th>\n      <td>10010165002</td>\n      <td>St. John's</td>\n      <td>25</td>\n      <td>47.5290</td>\n      <td>-52.7793</td>\n      <td>0.0193</td>\n      <td>0.014</td>\n      <td>0.0257</td>\n      <td>0.0028</td>\n      <td>..</td>\n      <td>0.0562</td>\n      <td>0.0375</td>\n      <td>..</td>\n      <td>..</td>\n      <td>0.0046</td>\n    </tr>\n    <tr>\n      <th>2</th>\n      <td>10010165006</td>\n      <td>St. John's</td>\n      <td>268</td>\n      <td>47.5265</td>\n      <td>-52.7768</td>\n      <td>0.0199</td>\n      <td>0.0205</td>\n      <td>0.0395</td>\n      <td>0.007</td>\n      <td>..</td>\n      <td>0.0734</td>\n      <td>0.0436</td>\n      <td>0.0545</td>\n      <td>..</td>\n      <td>0.0101</td>\n    </tr>\n    <tr>\n      <th>3</th>\n      <td>10010165007</td>\n      <td>St. John's</td>\n      <td>53</td>\n      <td>47.5263</td>\n      <td>-52.7726</td>\n      <td>0.0204</td>\n      <td>0.0238</td>\n      <td>0.0425</td>\n      <td>0.0074</td>\n      <td>..</td>\n      <td>0.0733</td>\n      <td>0.0548</td>\n      <td>0.0796</td>\n      <td>0.013</td>\n      <td>0.0098</td>\n    </tr>\n    <tr>\n      <th>4</th>\n      <td>10010166001</td>\n      <td>St. John's</td>\n      <td>71</td>\n      <td>47.5268</td>\n      <td>-52.7730</td>\n      <td>0.0204</td>\n      <td>0.0238</td>\n      <td>0.0425</td>\n      <td>0.0074</td>\n      <td>..</td>\n      <td>0.0735</td>\n      <td>0.0548</td>\n      <td>0.0796</td>\n      <td>0.013</td>\n      <td>0.0098</td>\n    </tr>\n    <tr>\n      <th>...</th>\n      <td>...</td>\n      <td>...</td>\n      <td>...</td>\n      <td>...</td>\n      <td>...</td>\n      <td>...</td>\n      <td>...</td>\n      <td>...</td>\n      <td>...</td>\n      <td>...</td>\n      <td>...</td>\n      <td>...</td>\n      <td>...</td>\n      <td>...</td>\n      <td>...</td>\n    </tr>\n    <tr>\n      <th>489671</th>\n      <td>62080028007</td>\n      <td>NaN</td>\n      <td>112</td>\n      <td>68.6235</td>\n      <td>-95.8734</td>\n      <td>..</td>\n      <td>..</td>\n      <td>..</td>\n      <td>..</td>\n      <td>..</td>\n      <td>..</td>\n      <td>..</td>\n      <td>..</td>\n      <td>..</td>\n      <td>..</td>\n    </tr>\n    <tr>\n      <th>489672</th>\n      <td>62080028008</td>\n      <td>NaN</td>\n      <td>0</td>\n      <td>68.6232</td>\n      <td>-95.8756</td>\n      <td>..</td>\n      <td>..</td>\n      <td>..</td>\n      <td>..</td>\n      <td>..</td>\n      <td>..</td>\n      <td>..</td>\n      <td>..</td>\n      <td>..</td>\n      <td>..</td>\n    </tr>\n    <tr>\n      <th>489673</th>\n      <td>62080028009</td>\n      <td>NaN</td>\n      <td>75</td>\n      <td>68.6230</td>\n      <td>-95.8369</td>\n      <td>..</td>\n      <td>..</td>\n      <td>..</td>\n      <td>..</td>\n      <td>..</td>\n      <td>..</td>\n      <td>..</td>\n      <td>..</td>\n      <td>..</td>\n      <td>..</td>\n    </tr>\n    <tr>\n      <th>489674</th>\n      <td>62080028010</td>\n      <td>NaN</td>\n      <td>47</td>\n      <td>68.6151</td>\n      <td>-95.8479</td>\n      <td>..</td>\n      <td>..</td>\n      <td>..</td>\n      <td>..</td>\n      <td>..</td>\n      <td>..</td>\n      <td>..</td>\n      <td>..</td>\n      <td>..</td>\n      <td>..</td>\n    </tr>\n    <tr>\n      <th>489675</th>\n      <td>62080028011</td>\n      <td>NaN</td>\n      <td>39</td>\n      <td>68.6204</td>\n      <td>-95.8743</td>\n      <td>..</td>\n      <td>..</td>\n      <td>..</td>\n      <td>..</td>\n      <td>..</td>\n      <td>..</td>\n      <td>..</td>\n      <td>..</td>\n      <td>..</td>\n      <td>..</td>\n    </tr>\n  </tbody>\n</table>\n<p>489676 rows × 15 columns</p>\n</div>"
     },
     "metadata": {},
     "execution_count": 3
    }
   ],
   "source": [
    "DBs = pd.read_csv('../../data/raw/DBs.csv')\n",
    "DBs = DBs[['DBUID','CMANAME','DBPOP','lat','lon','prox_idx_emp','prox_idx_pharma','prox_idx_childcare','prox_idx_health','prox_idx_grocery','prox_idx_educpri','prox_idx_educsec','prox_idx_lib','prox_idx_parks','prox_idx_transit']]\n",
    "DBs = DBs.rename(columns = {'DBUID':'id', 'CMANAME':'metropolitan_area', 'DBPOP':'pop','prox_idx_emp':'prox_emp','prox_idx_pharma':'prox_pharma','prox_idx_childcare':'prox_childcare','prox_idx_health':'prox_health','prox_idx_grocery':'prox_grocery','prox_idx_educpri':'prox_educpri','prox_idx_educsec':'prox_educsec','prox_idx_lib':'prox_lib','prox_idx_parks':'prox_parks','prox_idx_transit':'prox_transit'})\n",
    "\n",
    "DBs"
   ]
  },
  {
   "cell_type": "code",
   "execution_count": 9,
   "metadata": {},
   "outputs": [
    {
     "output_type": "execute_result",
     "data": {
      "text/plain": [
       "                 id  pop      lat       lon\n",
       "442430  59150004004   35  49.3739 -123.2738\n",
       "442431  59150004005   50  49.3746 -123.2757\n",
       "442432  59150004006   94  49.3738 -123.2763\n",
       "442433  59150004011    0  49.3735 -123.2725\n",
       "442434  59150004012    0  49.3725 -123.2729\n",
       "...             ...  ...      ...       ...\n",
       "457622  59154055002    0  49.0044 -122.4774\n",
       "457623  59154055003    0  49.0036 -122.4762\n",
       "457624  59154055004  386  49.0029 -122.4757\n",
       "457625  59154055005    0  49.0062 -122.4772\n",
       "457626  59154056001   85  49.0053 -122.4748\n",
       "\n",
       "[15197 rows x 4 columns]"
      ],
      "text/html": "<div>\n<style scoped>\n    .dataframe tbody tr th:only-of-type {\n        vertical-align: middle;\n    }\n\n    .dataframe tbody tr th {\n        vertical-align: top;\n    }\n\n    .dataframe thead th {\n        text-align: right;\n    }\n</style>\n<table border=\"1\" class=\"dataframe\">\n  <thead>\n    <tr style=\"text-align: right;\">\n      <th></th>\n      <th>id</th>\n      <th>pop</th>\n      <th>lat</th>\n      <th>lon</th>\n    </tr>\n  </thead>\n  <tbody>\n    <tr>\n      <th>442430</th>\n      <td>59150004004</td>\n      <td>35</td>\n      <td>49.3739</td>\n      <td>-123.2738</td>\n    </tr>\n    <tr>\n      <th>442431</th>\n      <td>59150004005</td>\n      <td>50</td>\n      <td>49.3746</td>\n      <td>-123.2757</td>\n    </tr>\n    <tr>\n      <th>442432</th>\n      <td>59150004006</td>\n      <td>94</td>\n      <td>49.3738</td>\n      <td>-123.2763</td>\n    </tr>\n    <tr>\n      <th>442433</th>\n      <td>59150004011</td>\n      <td>0</td>\n      <td>49.3735</td>\n      <td>-123.2725</td>\n    </tr>\n    <tr>\n      <th>442434</th>\n      <td>59150004012</td>\n      <td>0</td>\n      <td>49.3725</td>\n      <td>-123.2729</td>\n    </tr>\n    <tr>\n      <th>...</th>\n      <td>...</td>\n      <td>...</td>\n      <td>...</td>\n      <td>...</td>\n    </tr>\n    <tr>\n      <th>457622</th>\n      <td>59154055002</td>\n      <td>0</td>\n      <td>49.0044</td>\n      <td>-122.4774</td>\n    </tr>\n    <tr>\n      <th>457623</th>\n      <td>59154055003</td>\n      <td>0</td>\n      <td>49.0036</td>\n      <td>-122.4762</td>\n    </tr>\n    <tr>\n      <th>457624</th>\n      <td>59154055004</td>\n      <td>386</td>\n      <td>49.0029</td>\n      <td>-122.4757</td>\n    </tr>\n    <tr>\n      <th>457625</th>\n      <td>59154055005</td>\n      <td>0</td>\n      <td>49.0062</td>\n      <td>-122.4772</td>\n    </tr>\n    <tr>\n      <th>457626</th>\n      <td>59154056001</td>\n      <td>85</td>\n      <td>49.0053</td>\n      <td>-122.4748</td>\n    </tr>\n  </tbody>\n</table>\n<p>15197 rows × 4 columns</p>\n</div>"
     },
     "metadata": {},
     "execution_count": 9
    }
   ],
   "source": [
    "DBsVan = DBs[DBs['metropolitan_area'] == 'Vancouver']\n",
    "DBsProx  = DBsVan.drop(columns=['metropolitan_area','lat','lon','pop'])\n",
    "DBsVan = DBsVan.drop(columns=['metropolitan_area','prox_emp','prox_pharma','prox_childcare','prox_health','prox_grocery','prox_educpri','prox_educsec','prox_lib','prox_parks','prox_transit'])\n",
    "\n",
    "DBsVan"
   ]
  },
  {
   "cell_type": "code",
   "execution_count": 10,
   "metadata": {},
   "outputs": [
    {
     "output_type": "execute_result",
     "data": {
      "text/plain": [
       "                 id prox_emp prox_pharma prox_childcare prox_health  \\\n",
       "442430  59150004004   0.0066      0.0648             ..      0.0054   \n",
       "442431  59150004005   0.0065      0.0405             ..      0.0057   \n",
       "442432  59150004006   0.0048      0.0269             ..      0.0032   \n",
       "442433  59150004011   0.0034      0.0463             ..       0.002   \n",
       "442434  59150004012   0.0027      0.0239             ..      0.0015   \n",
       "...             ...      ...         ...            ...         ...   \n",
       "457622  59154055002   0.0023          ..             ..          ..   \n",
       "457623  59154055003   0.0026          ..             ..          ..   \n",
       "457624  59154055004   0.0026          ..             ..          ..   \n",
       "457625  59154055005   0.0018          ..             ..          ..   \n",
       "457626  59154056001   0.0024          ..             ..          ..   \n",
       "\n",
       "       prox_grocery prox_educpri prox_educsec prox_lib prox_parks prox_transit  \n",
       "442430       0.0591       0.0388         0.05       ..     0.0257        0.016  \n",
       "442431       0.0506        0.035       0.0451       ..     0.0238       0.0094  \n",
       "442432       0.1419       0.0392       0.0505       ..     0.0323       0.0089  \n",
       "442433       0.0405       0.0425       0.0548       ..     0.0271       0.0132  \n",
       "442434       0.0329       0.0445       0.0573       ..     0.0303       0.0081  \n",
       "...             ...          ...          ...      ...        ...          ...  \n",
       "457622           ..           ..           ..       ..         ..           ..  \n",
       "457623           ..           ..           ..       ..         ..           ..  \n",
       "457624           ..           ..           ..       ..         ..           ..  \n",
       "457625           ..           ..           ..       ..         ..           ..  \n",
       "457626           ..           ..           ..       ..         ..           ..  \n",
       "\n",
       "[15197 rows x 11 columns]"
      ],
      "text/html": "<div>\n<style scoped>\n    .dataframe tbody tr th:only-of-type {\n        vertical-align: middle;\n    }\n\n    .dataframe tbody tr th {\n        vertical-align: top;\n    }\n\n    .dataframe thead th {\n        text-align: right;\n    }\n</style>\n<table border=\"1\" class=\"dataframe\">\n  <thead>\n    <tr style=\"text-align: right;\">\n      <th></th>\n      <th>id</th>\n      <th>prox_emp</th>\n      <th>prox_pharma</th>\n      <th>prox_childcare</th>\n      <th>prox_health</th>\n      <th>prox_grocery</th>\n      <th>prox_educpri</th>\n      <th>prox_educsec</th>\n      <th>prox_lib</th>\n      <th>prox_parks</th>\n      <th>prox_transit</th>\n    </tr>\n  </thead>\n  <tbody>\n    <tr>\n      <th>442430</th>\n      <td>59150004004</td>\n      <td>0.0066</td>\n      <td>0.0648</td>\n      <td>..</td>\n      <td>0.0054</td>\n      <td>0.0591</td>\n      <td>0.0388</td>\n      <td>0.05</td>\n      <td>..</td>\n      <td>0.0257</td>\n      <td>0.016</td>\n    </tr>\n    <tr>\n      <th>442431</th>\n      <td>59150004005</td>\n      <td>0.0065</td>\n      <td>0.0405</td>\n      <td>..</td>\n      <td>0.0057</td>\n      <td>0.0506</td>\n      <td>0.035</td>\n      <td>0.0451</td>\n      <td>..</td>\n      <td>0.0238</td>\n      <td>0.0094</td>\n    </tr>\n    <tr>\n      <th>442432</th>\n      <td>59150004006</td>\n      <td>0.0048</td>\n      <td>0.0269</td>\n      <td>..</td>\n      <td>0.0032</td>\n      <td>0.1419</td>\n      <td>0.0392</td>\n      <td>0.0505</td>\n      <td>..</td>\n      <td>0.0323</td>\n      <td>0.0089</td>\n    </tr>\n    <tr>\n      <th>442433</th>\n      <td>59150004011</td>\n      <td>0.0034</td>\n      <td>0.0463</td>\n      <td>..</td>\n      <td>0.002</td>\n      <td>0.0405</td>\n      <td>0.0425</td>\n      <td>0.0548</td>\n      <td>..</td>\n      <td>0.0271</td>\n      <td>0.0132</td>\n    </tr>\n    <tr>\n      <th>442434</th>\n      <td>59150004012</td>\n      <td>0.0027</td>\n      <td>0.0239</td>\n      <td>..</td>\n      <td>0.0015</td>\n      <td>0.0329</td>\n      <td>0.0445</td>\n      <td>0.0573</td>\n      <td>..</td>\n      <td>0.0303</td>\n      <td>0.0081</td>\n    </tr>\n    <tr>\n      <th>...</th>\n      <td>...</td>\n      <td>...</td>\n      <td>...</td>\n      <td>...</td>\n      <td>...</td>\n      <td>...</td>\n      <td>...</td>\n      <td>...</td>\n      <td>...</td>\n      <td>...</td>\n      <td>...</td>\n    </tr>\n    <tr>\n      <th>457622</th>\n      <td>59154055002</td>\n      <td>0.0023</td>\n      <td>..</td>\n      <td>..</td>\n      <td>..</td>\n      <td>..</td>\n      <td>..</td>\n      <td>..</td>\n      <td>..</td>\n      <td>..</td>\n      <td>..</td>\n    </tr>\n    <tr>\n      <th>457623</th>\n      <td>59154055003</td>\n      <td>0.0026</td>\n      <td>..</td>\n      <td>..</td>\n      <td>..</td>\n      <td>..</td>\n      <td>..</td>\n      <td>..</td>\n      <td>..</td>\n      <td>..</td>\n      <td>..</td>\n    </tr>\n    <tr>\n      <th>457624</th>\n      <td>59154055004</td>\n      <td>0.0026</td>\n      <td>..</td>\n      <td>..</td>\n      <td>..</td>\n      <td>..</td>\n      <td>..</td>\n      <td>..</td>\n      <td>..</td>\n      <td>..</td>\n      <td>..</td>\n    </tr>\n    <tr>\n      <th>457625</th>\n      <td>59154055005</td>\n      <td>0.0018</td>\n      <td>..</td>\n      <td>..</td>\n      <td>..</td>\n      <td>..</td>\n      <td>..</td>\n      <td>..</td>\n      <td>..</td>\n      <td>..</td>\n      <td>..</td>\n    </tr>\n    <tr>\n      <th>457626</th>\n      <td>59154056001</td>\n      <td>0.0024</td>\n      <td>..</td>\n      <td>..</td>\n      <td>..</td>\n      <td>..</td>\n      <td>..</td>\n      <td>..</td>\n      <td>..</td>\n      <td>..</td>\n      <td>..</td>\n    </tr>\n  </tbody>\n</table>\n<p>15197 rows × 11 columns</p>\n</div>"
     },
     "metadata": {},
     "execution_count": 10
    }
   ],
   "source": [
    "DBsProx"
   ]
  },
  {
   "cell_type": "code",
   "execution_count": 8,
   "metadata": {},
   "outputs": [],
   "source": [
    "DBsVan.to_csv('../../data/clean/vancouver_db.csv', index=False)"
   ]
  },
  {
   "cell_type": "code",
   "execution_count": 11,
   "metadata": {},
   "outputs": [],
   "source": [
    "DBsProx.to_csv('../../data/clean/vancouver_Prox.csv', index=False)"
   ]
  },
  {
   "cell_type": "code",
   "execution_count": null,
   "metadata": {},
   "outputs": [],
   "source": []
  }
 ]
}