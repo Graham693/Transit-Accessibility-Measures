{
 "metadata": {
  "language_info": {
   "codemirror_mode": {
    "name": "ipython",
    "version": 3
   },
   "file_extension": ".py",
   "mimetype": "text/x-python",
   "name": "python",
   "nbconvert_exporter": "python",
   "pygments_lexer": "ipython3",
   "version": "3.8.3"
  },
  "orig_nbformat": 2,
  "kernelspec": {
   "name": "python383jvsc74a57bd0e95bd23c58372e532c13f19770ac32345ce14fa00d207afebbf1161aa1e79f4b",
   "display_name": "Python 3.8.3 64-bit (conda)"
  }
 },
 "nbformat": 4,
 "nbformat_minor": 2,
 "cells": [
  {
   "cell_type": "code",
   "execution_count": 1,
   "metadata": {},
   "outputs": [],
   "source": [
    "import pandas as pd"
   ]
  },
  {
   "cell_type": "code",
   "execution_count": 2,
   "metadata": {},
   "outputs": [],
   "source": [
    "df_ODCAF_VRGM = pd.read_csv('VancouverRGM_Amenities.csv')"
   ]
  },
  {
   "cell_type": "code",
   "execution_count": 3,
   "metadata": {},
   "outputs": [
    {
     "output_type": "execute_result",
     "data": {
      "text/plain": [
       "   Index                                      Facility_Name  \\\n",
       "0     10                        12 Service Battalion Museum   \n",
       "1     15  15th Field Artillery Regiment Museum And Archives   \n",
       "2     24                             221A Artist Run Centre   \n",
       "3     41                                 7302754 Canada Inc   \n",
       "4    140                                    Agassiz Library   \n",
       "\n",
       "                                Source_Facility_Type  ODCAF_Facility_Type  \\\n",
       "0                            military museum or fort               museum   \n",
       "1                                     museum/gallery               museum   \n",
       "2                                     museum/gallery               museum   \n",
       "3  artist making fine art and exhibiting in galle...               artist   \n",
       "4                     fraser valley regional library  library or archives   \n",
       "\n",
       "                         Provider Unit  Street_No   Street_Name Postal_Code  \\\n",
       "0    canadian museums association  NaN     5500.0       no 4 rd     V6X 3L5   \n",
       "1                       vancouver  NaN     2025.0     11th av w     V6J 2C7   \n",
       "2                       vancouver  NaN      221.0  georgia st e     V6A 1Z6   \n",
       "3                         burnaby  NaN     6909.0      mckay av         NaN   \n",
       "4  government of british columbia  NaN     7140.0     cheam ave     V0M 1A0   \n",
       "\n",
       "              City Prov_Terr  \\\n",
       "0         richmond        bc   \n",
       "1        vancouver        bc   \n",
       "2        vancouver        bc   \n",
       "3          burnaby        bc   \n",
       "4  north vancouver        bc   \n",
       "\n",
       "                               Source_Format_Address          CSD_Name  \\\n",
       "0  5500 no. 4 rd the sherman armoury richmond bri...          Richmond   \n",
       "1                2025 w 11th av vancouver bc v6j 2c7         Vancouver   \n",
       "2              221 e georgia st vancouver bc v6a 1z6         Vancouver   \n",
       "3                                      6909 mckay av           Burnaby   \n",
       "4                                     7140 cheam ave  Squawkum Creek 3   \n",
       "\n",
       "      CSDUID  PRUID   Latitude   Longitude  \n",
       "0  5915015.0     59  49.176354 -123.112783  \n",
       "1  5915022.0     59  49.261938 -123.151123  \n",
       "2  5915022.0     59  49.278786 -123.098796  \n",
       "3  5915025.0     59  49.221000 -123.009185  \n",
       "4  5909882.0     59  49.243554 -121.992562  "
      ],
      "text/html": "<div>\n<style scoped>\n    .dataframe tbody tr th:only-of-type {\n        vertical-align: middle;\n    }\n\n    .dataframe tbody tr th {\n        vertical-align: top;\n    }\n\n    .dataframe thead th {\n        text-align: right;\n    }\n</style>\n<table border=\"1\" class=\"dataframe\">\n  <thead>\n    <tr style=\"text-align: right;\">\n      <th></th>\n      <th>Index</th>\n      <th>Facility_Name</th>\n      <th>Source_Facility_Type</th>\n      <th>ODCAF_Facility_Type</th>\n      <th>Provider</th>\n      <th>Unit</th>\n      <th>Street_No</th>\n      <th>Street_Name</th>\n      <th>Postal_Code</th>\n      <th>City</th>\n      <th>Prov_Terr</th>\n      <th>Source_Format_Address</th>\n      <th>CSD_Name</th>\n      <th>CSDUID</th>\n      <th>PRUID</th>\n      <th>Latitude</th>\n      <th>Longitude</th>\n    </tr>\n  </thead>\n  <tbody>\n    <tr>\n      <th>0</th>\n      <td>10</td>\n      <td>12 Service Battalion Museum</td>\n      <td>military museum or fort</td>\n      <td>museum</td>\n      <td>canadian museums association</td>\n      <td>NaN</td>\n      <td>5500.0</td>\n      <td>no 4 rd</td>\n      <td>V6X 3L5</td>\n      <td>richmond</td>\n      <td>bc</td>\n      <td>5500 no. 4 rd the sherman armoury richmond bri...</td>\n      <td>Richmond</td>\n      <td>5915015.0</td>\n      <td>59</td>\n      <td>49.176354</td>\n      <td>-123.112783</td>\n    </tr>\n    <tr>\n      <th>1</th>\n      <td>15</td>\n      <td>15th Field Artillery Regiment Museum And Archives</td>\n      <td>museum/gallery</td>\n      <td>museum</td>\n      <td>vancouver</td>\n      <td>NaN</td>\n      <td>2025.0</td>\n      <td>11th av w</td>\n      <td>V6J 2C7</td>\n      <td>vancouver</td>\n      <td>bc</td>\n      <td>2025 w 11th av vancouver bc v6j 2c7</td>\n      <td>Vancouver</td>\n      <td>5915022.0</td>\n      <td>59</td>\n      <td>49.261938</td>\n      <td>-123.151123</td>\n    </tr>\n    <tr>\n      <th>2</th>\n      <td>24</td>\n      <td>221A Artist Run Centre</td>\n      <td>museum/gallery</td>\n      <td>museum</td>\n      <td>vancouver</td>\n      <td>NaN</td>\n      <td>221.0</td>\n      <td>georgia st e</td>\n      <td>V6A 1Z6</td>\n      <td>vancouver</td>\n      <td>bc</td>\n      <td>221 e georgia st vancouver bc v6a 1z6</td>\n      <td>Vancouver</td>\n      <td>5915022.0</td>\n      <td>59</td>\n      <td>49.278786</td>\n      <td>-123.098796</td>\n    </tr>\n    <tr>\n      <th>3</th>\n      <td>41</td>\n      <td>7302754 Canada Inc</td>\n      <td>artist making fine art and exhibiting in galle...</td>\n      <td>artist</td>\n      <td>burnaby</td>\n      <td>NaN</td>\n      <td>6909.0</td>\n      <td>mckay av</td>\n      <td>NaN</td>\n      <td>burnaby</td>\n      <td>bc</td>\n      <td>6909 mckay av</td>\n      <td>Burnaby</td>\n      <td>5915025.0</td>\n      <td>59</td>\n      <td>49.221000</td>\n      <td>-123.009185</td>\n    </tr>\n    <tr>\n      <th>4</th>\n      <td>140</td>\n      <td>Agassiz Library</td>\n      <td>fraser valley regional library</td>\n      <td>library or archives</td>\n      <td>government of british columbia</td>\n      <td>NaN</td>\n      <td>7140.0</td>\n      <td>cheam ave</td>\n      <td>V0M 1A0</td>\n      <td>north vancouver</td>\n      <td>bc</td>\n      <td>7140 cheam ave</td>\n      <td>Squawkum Creek 3</td>\n      <td>5909882.0</td>\n      <td>59</td>\n      <td>49.243554</td>\n      <td>-121.992562</td>\n    </tr>\n  </tbody>\n</table>\n</div>"
     },
     "metadata": {},
     "execution_count": 3
    }
   ],
   "source": [
    "df_ODCAF_VRGM.head()"
   ]
  },
  {
   "cell_type": "code",
   "execution_count": 5,
   "metadata": {},
   "outputs": [],
   "source": [
    "df_ODCAF_VRGM.dropna(subset = ['Latitude', 'Longitude'], inplace = True) "
   ]
  },
  {
   "cell_type": "code",
   "execution_count": 6,
   "metadata": {},
   "outputs": [
    {
     "output_type": "stream",
     "name": "stdout",
     "text": [
      "<class 'pandas.core.frame.DataFrame'>\nInt64Index: 407 entries, 0 to 418\nData columns (total 17 columns):\n #   Column                 Non-Null Count  Dtype  \n---  ------                 --------------  -----  \n 0   Index                  407 non-null    int64  \n 1   Facility_Name          407 non-null    object \n 2   Source_Facility_Type   359 non-null    object \n 3   ODCAF_Facility_Type    407 non-null    object \n 4   Provider               407 non-null    object \n 5   Unit                   9 non-null      object \n 6   Street_No              340 non-null    float64\n 7   Street_Name            340 non-null    object \n 8   Postal_Code            277 non-null    object \n 9   City                   407 non-null    object \n 10  Prov_Terr              407 non-null    object \n 11  Source_Format_Address  338 non-null    object \n 12  CSD_Name               407 non-null    object \n 13  CSDUID                 407 non-null    float64\n 14  PRUID                  407 non-null    int64  \n 15  Latitude               407 non-null    float64\n 16  Longitude              407 non-null    float64\ndtypes: float64(4), int64(2), object(11)\nmemory usage: 57.2+ KB\n"
     ]
    }
   ],
   "source": [
    "df_ODCAF_VRGM.info()"
   ]
  },
  {
   "cell_type": "code",
   "execution_count": 16,
   "metadata": {},
   "outputs": [
    {
     "output_type": "execute_result",
     "data": {
      "text/plain": [
       "library or archives                     92\n",
       "gallery                                 91\n",
       "museum                                  85\n",
       "theatre/performance and concert hall    69\n",
       "artist                                  47\n",
       "heritage or historic site               13\n",
       "miscellaneous                            5\n",
       "art or cultural centre                   5\n",
       "Name: ODCAF_Facility_Type, dtype: int64"
      ]
     },
     "metadata": {},
     "execution_count": 16
    }
   ],
   "source": [
    "df_ODCAF_VRGM['ODCAF_Facility_Type'].value_counts()"
   ]
  },
  {
   "cell_type": "code",
   "execution_count": 20,
   "metadata": {},
   "outputs": [
    {
     "output_type": "execute_result",
     "data": {
      "text/plain": [
       "vancouver          41\n",
       "surrey              8\n",
       "burnaby             8\n",
       "langley             6\n",
       "north vancouver     6\n",
       "new-westminster     5\n",
       "richmond            5\n",
       "coquitlam           4\n",
       "delta               3\n",
       "maple ridge         2\n",
       "port moody          1\n",
       "white rock          1\n",
       "pitt meadows        1\n",
       "bowen island        1\n",
       "Name: City, dtype: int64"
      ]
     },
     "metadata": {},
     "execution_count": 20
    }
   ],
   "source": [
    "df_ODCAF_VRGM[df_ODCAF_VRGM['ODCAF_Facility_Type']=='library or archives']['City'].value_counts()"
   ]
  },
  {
   "cell_type": "code",
   "execution_count": 21,
   "metadata": {},
   "outputs": [
    {
     "output_type": "execute_result",
     "data": {
      "text/plain": [
       "vancouver          79\n",
       "new-westminster     6\n",
       "burnaby             2\n",
       "richmond            1\n",
       "maple ridge         1\n",
       "surrey              1\n",
       "coquitlam           1\n",
       "Name: City, dtype: int64"
      ]
     },
     "metadata": {},
     "execution_count": 21
    }
   ],
   "source": [
    "df_ODCAF_VRGM[df_ODCAF_VRGM['ODCAF_Facility_Type']=='gallery']['City'].value_counts()"
   ]
  },
  {
   "cell_type": "code",
   "execution_count": 22,
   "metadata": {},
   "outputs": [
    {
     "output_type": "execute_result",
     "data": {
      "text/plain": [
       "vancouver          61\n",
       "new-westminster     7\n",
       "burnaby             4\n",
       "richmond            3\n",
       "white rock          2\n",
       "surrey              2\n",
       "delta               1\n",
       "maple ridge         1\n",
       "coquitlam           1\n",
       "bowen               1\n",
       "pitt meadows        1\n",
       "port moody          1\n",
       "Name: City, dtype: int64"
      ]
     },
     "metadata": {},
     "execution_count": 22
    }
   ],
   "source": [
    "df_ODCAF_VRGM[df_ODCAF_VRGM['ODCAF_Facility_Type']=='museum']['City'].value_counts()"
   ]
  },
  {
   "cell_type": "code",
   "execution_count": null,
   "metadata": {},
   "outputs": [],
   "source": []
  }
 ]
}