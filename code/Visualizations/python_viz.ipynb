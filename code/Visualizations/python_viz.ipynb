{
 "metadata": {
  "language_info": {
   "codemirror_mode": {
    "name": "ipython",
    "version": 3
   },
   "file_extension": ".py",
   "mimetype": "text/x-python",
   "name": "python",
   "nbconvert_exporter": "python",
   "pygments_lexer": "ipython3",
   "version": "3.8.3"
  },
  "orig_nbformat": 2,
  "kernelspec": {
   "name": "python383jvsc74a57bd0b49af92716124a3dcdffffc9745ca4adb6a99ad9a5084f8f6ea1cee1a8d52ff7",
   "display_name": "Python 3.8.3 64-bit ('base': conda)"
  }
 },
 "nbformat": 4,
 "nbformat_minor": 2,
 "cells": [
  {
   "cell_type": "code",
   "execution_count": 3,
   "metadata": {},
   "outputs": [],
   "source": [
    "import numpy as np\n",
    "import pandas as pd\n",
    "import plotly.express as px\n",
    "import json\n",
    "import ogr"
   ]
  },
  {
   "cell_type": "code",
   "execution_count": 4,
   "metadata": {},
   "outputs": [],
   "source": [
    "# this isn't really a .geojson, it's just a json list of features\n",
    "with open('van_poly.geojson') as f:\n",
    "  blocks = json.load(f)"
   ]
  },
  {
   "cell_type": "code",
   "execution_count": 6,
   "metadata": {},
   "outputs": [
    {
     "output_type": "execute_result",
     "data": {
      "text/plain": [
       "{'type': 'Feature',\n",
       " 'properties': {'DBUID': '59150244005',\n",
       "  'DBRPLAMX': 4030983.593945,\n",
       "  'DBRPLAMY': 2005717.42964501,\n",
       "  'PRUID': '59',\n",
       "  'PRNAME': 'British Columbia / Colombie-Britannique',\n",
       "  'CDUID': '5915',\n",
       "  'CDNAME': 'Greater Vancouver',\n",
       "  'CDTYPE': 'RD',\n",
       "  'CCSUID': '5915020',\n",
       "  'CCSNAME': 'Greater Vancouver A',\n",
       "  'CSDUID': '5915046',\n",
       "  'CSDNAME': 'North Vancouver',\n",
       "  'CSDTYPE': 'DM',\n",
       "  'ERUID': '5920',\n",
       "  'ERNAME': 'Lower Mainland--Southwest / Lower Mainland--Sud-ouest',\n",
       "  'FEDUID': '59002',\n",
       "  'FEDNAME': 'Burnaby North--Seymour / Burnaby-Nord--Seymour',\n",
       "  'SACCODE': '933',\n",
       "  'SACTYPE': '1',\n",
       "  'CMAUID': '933',\n",
       "  'CMAPUID': '59933',\n",
       "  'CMANAME': 'Vancouver',\n",
       "  'CMATYPE': 'B',\n",
       "  'CTUID': '9330110.03',\n",
       "  'CTNAME': '0110.03',\n",
       "  'ADAUID': '59150014',\n",
       "  'DAUID': '59150244'},\n",
       " 'geometry': {'type': 'Polygon',\n",
       "  'coordinates': [[[-122.96251616532064, 49.32169736741242],\n",
       "    [-122.96222837991496, 49.321261359289615],\n",
       "    [-122.9621961748921, 49.32116586646329],\n",
       "    [-122.96234696135333, 49.321026057053416],\n",
       "    [-122.96258594868415, 49.320990470301105],\n",
       "    [-122.9628158677417, 49.32100765306524],\n",
       "    [-122.96293694647484, 49.32109213975306],\n",
       "    [-122.96318953915885, 49.321498256578465],\n",
       "    [-122.96251616532064, 49.32169736741242]]]}}"
      ]
     },
     "metadata": {},
     "execution_count": 6
    }
   ],
   "source": [
    "# we need to convert it to geojson format by putting back in this dictionary structure\n",
    "geo_json = {\"type\": \"FeatureCollection\", \"features\": blocks}\n",
    "geo_json[\"features\"][0]"
   ]
  },
  {
   "cell_type": "code",
   "execution_count": 7,
   "metadata": {},
   "outputs": [
    {
     "output_type": "stream",
     "name": "stdout",
     "text": [
      "<class 'pandas.core.frame.DataFrame'>\nRangeIndex: 14352 entries, 0 to 14351\nData columns (total 2 columns):\n #   Column  Non-Null Count  Dtype  \n---  ------  --------------  -----  \n 0   fromId  14352 non-null  int64  \n 1   score   14352 non-null  float64\ndtypes: float64(1), int64(1)\nmemory usage: 224.4 KB\n"
     ]
    },
    {
     "output_type": "execute_result",
     "data": {
      "text/plain": [
       "0.99"
      ]
     },
     "metadata": {},
     "execution_count": 7
    }
   ],
   "source": [
    "df = pd.read_csv('../../data/score_sets/all_destination_scores.csv')\n",
    "df.info(); df['score'].max()\n"
   ]
  },
  {
   "cell_type": "code",
   "execution_count": null,
   "metadata": {},
   "outputs": [],
   "source": [
    "import plotly.graph_objects as go\n"
   ]
  },
  {
   "cell_type": "code",
   "execution_count": null,
   "metadata": {},
   "outputs": [],
   "source": [
    "fig = go.Figure(go.Choroplethmapbox(geojson=geo_json, locations=df.fromId, color=df.score,\n",
    "                           color_continuous_scale=\"Joly\", marker_line_width=0, marker_opacity=0.5,\n",
    "                          # range_color=(0, 1),\n",
    "                          # featureidkey=\"properties.DBUID\",\n",
    "                           mapbox_style=\"carto-positron\"\n",
    "                          )\n",
    "\n",
    "fig.update_layout(mapbox_style=\"carto-positron\")\n",
    "fig.update_layout(margin={\"r\":0,\"t\":0,\"l\":0,\"b\":0})\n",
    "fig.show()"
   ]
  },
  {
   "cell_type": "code",
   "execution_count": null,
   "metadata": {},
   "outputs": [],
   "source": []
  }
 ]
}