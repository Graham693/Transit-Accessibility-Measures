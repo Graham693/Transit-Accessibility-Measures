{
 "metadata": {
  "language_info": {
   "codemirror_mode": {
    "name": "ipython",
    "version": 3
   },
   "file_extension": ".py",
   "mimetype": "text/x-python",
   "name": "python",
   "nbconvert_exporter": "python",
   "pygments_lexer": "ipython3",
   "version": "3.8.3"
  },
  "orig_nbformat": 2,
  "kernelspec": {
   "name": "python383jvsc74a57bd0e95bd23c58372e532c13f19770ac32345ce14fa00d207afebbf1161aa1e79f4b",
   "display_name": "Python 3.8.3 64-bit ('base': conda)"
  }
 },
 "nbformat": 4,
 "nbformat_minor": 2,
 "cells": [
  {
   "cell_type": "code",
   "execution_count": 1,
   "metadata": {},
   "outputs": [],
   "source": [
    "import numpy as np\n",
    "import pandas as pd\n",
    "import plotly.express as px\n",
    "import json\n",
    "import ogr"
   ]
  },
  {
   "cell_type": "code",
   "execution_count": 2,
   "metadata": {},
   "outputs": [],
   "source": [
    "with open('../../data/clean/canada_db.geojson') as f:\n",
    "  blocks = json.load(f)"
   ]
  },
  {
   "cell_type": "code",
   "execution_count": 3,
   "metadata": {},
   "outputs": [
    {
     "output_type": "execute_result",
     "data": {
      "text/plain": [
       "{'DBUID': '10010202002',\n",
       " 'DBRPLAMX': 8979444.20611001,\n",
       " 'DBRPLAMY': 2148774.86356001,\n",
       " 'PRUID': '10',\n",
       " 'PRNAME': 'Newfoundland and Labrador / Terre-Neuve-et-Labrador',\n",
       " 'CDUID': '1001',\n",
       " 'CDNAME': 'Division No.  1',\n",
       " 'CDTYPE': 'CDR',\n",
       " 'CCSUID': '1001519',\n",
       " 'CCSNAME': \"St. John's\",\n",
       " 'CSDUID': '1001519',\n",
       " 'CSDNAME': \"St. John's\",\n",
       " 'CSDTYPE': 'CY',\n",
       " 'ERUID': '1010',\n",
       " 'ERNAME': 'Avalon Peninsula',\n",
       " 'FEDUID': '10007',\n",
       " 'FEDNAME': \"St. John's South--Mount Pearl / St. John's-Sud--Mount Pearl\",\n",
       " 'SACCODE': '001',\n",
       " 'SACTYPE': '1',\n",
       " 'CMAUID': '001',\n",
       " 'CMAPUID': '10001',\n",
       " 'CMANAME': \"St. John's\",\n",
       " 'CMATYPE': 'B',\n",
       " 'CTUID': '0010003.01',\n",
       " 'CTNAME': '0003.01',\n",
       " 'ADAUID': '10010015',\n",
       " 'DAUID': '10010202'}"
      ]
     },
     "metadata": {},
     "execution_count": 3
    }
   ],
   "source": [
    "blocks[\"features\"][0]['properties']"
   ]
  },
  {
   "cell_type": "code",
   "execution_count": 5,
   "metadata": {},
   "outputs": [
    {
     "output_type": "stream",
     "name": "stdout",
     "text": [
      "<class 'pandas.core.frame.DataFrame'>\nRangeIndex: 14352 entries, 0 to 14351\nData columns (total 2 columns):\n #   Column  Non-Null Count  Dtype  \n---  ------  --------------  -----  \n 0   fromId  14352 non-null  int64  \n 1   score   14352 non-null  float64\ndtypes: float64(1), int64(1)\nmemory usage: 224.4 KB\n"
     ]
    }
   ],
   "source": [
    "df = pd.read_csv('../../data/score_sets/all_destination_scores.csv')\n",
    "df.info()"
   ]
  },
  {
   "cell_type": "code",
   "execution_count": null,
   "metadata": {},
   "outputs": [],
   "source": [
    "max_value = df['score'].max()\n",
    "fig = px.choropleth(df, geojson=blocks, locations='fromId',       \n",
    "                           color='score',\n",
    "                           color_continuous_scale=\"Viridis\",\n",
    "                           range_color=(0, max_value),\n",
    "                           featureidkey=\"properties.DBUID\",\n",
    "                           projection=\"mercator\"\n",
    "                          )\n",
    "fig.update_geos(fitbounds=\"locations\", visible=False)\n",
    "fig.update_layout(margin={\"r\":0,\"t\":0,\"l\":0,\"b\":0})\n",
    "fig.show()"
   ]
  },
  {
   "cell_type": "code",
   "execution_count": null,
   "metadata": {},
   "outputs": [],
   "source": []
  }
 ]
}