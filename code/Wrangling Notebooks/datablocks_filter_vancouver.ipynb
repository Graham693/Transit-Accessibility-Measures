{
 "metadata": {
  "language_info": {
   "codemirror_mode": {
    "name": "ipython",
    "version": 3
   },
   "file_extension": ".py",
   "mimetype": "text/x-python",
   "name": "python",
   "nbconvert_exporter": "python",
   "pygments_lexer": "ipython3",
   "version": "3.8.3"
  },
  "orig_nbformat": 2,
  "kernelspec": {
   "name": "python383jvsc74a57bd0e95bd23c58372e532c13f19770ac32345ce14fa00d207afebbf1161aa1e79f4b",
   "display_name": "Python 3.8.3 64-bit ('base': conda)"
  }
 },
 "nbformat": 4,
 "nbformat_minor": 2,
 "cells": [
  {
   "source": [
    "** Wrangling of Datablocks"
   ],
   "cell_type": "markdown",
   "metadata": {}
  },
  {
   "cell_type": "code",
   "execution_count": 3,
   "metadata": {},
   "outputs": [],
   "source": [
    "import pandas as pd"
   ]
  },
  {
   "cell_type": "code",
   "execution_count": 4,
   "metadata": {},
   "outputs": [],
   "source": [
    "DBs = pd.read_csv('DBs.csv')"
   ]
  },
  {
   "cell_type": "code",
   "execution_count": 7,
   "metadata": {},
   "outputs": [
    {
     "output_type": "stream",
     "name": "stderr",
     "text": [
      "C:\\Users\\Graha\\miniconda3\\lib\\site-packages\\pandas\\core\\frame.py:4295: SettingWithCopyWarning: \nA value is trying to be set on a copy of a slice from a DataFrame\n\nSee the caveats in the documentation: https://pandas.pydata.org/pandas-docs/stable/user_guide/indexing.html#returning-a-view-versus-a-copy\n  return super().rename(\n"
     ]
    },
    {
     "output_type": "execute_result",
     "data": {
      "text/plain": [
       "                 id DBPOP      lat       lon\n",
       "442430  59150004004    35  49.3739 -123.2738\n",
       "442431  59150004005    50  49.3746 -123.2757\n",
       "442432  59150004006    94  49.3738 -123.2763\n",
       "442433  59150004011     0  49.3735 -123.2725\n",
       "442434  59150004012     0  49.3725 -123.2729\n",
       "...             ...   ...      ...       ...\n",
       "457622  59154055002     0  49.0044 -122.4774\n",
       "457623  59154055003     0  49.0036 -122.4762\n",
       "457624  59154055004   386  49.0029 -122.4757\n",
       "457625  59154055005     0  49.0062 -122.4772\n",
       "457626  59154056001    85  49.0053 -122.4748\n",
       "\n",
       "[15197 rows x 4 columns]"
      ],
      "text/html": "<div>\n<style scoped>\n    .dataframe tbody tr th:only-of-type {\n        vertical-align: middle;\n    }\n\n    .dataframe tbody tr th {\n        vertical-align: top;\n    }\n\n    .dataframe thead th {\n        text-align: right;\n    }\n</style>\n<table border=\"1\" class=\"dataframe\">\n  <thead>\n    <tr style=\"text-align: right;\">\n      <th></th>\n      <th>id</th>\n      <th>DBPOP</th>\n      <th>lat</th>\n      <th>lon</th>\n    </tr>\n  </thead>\n  <tbody>\n    <tr>\n      <th>442430</th>\n      <td>59150004004</td>\n      <td>35</td>\n      <td>49.3739</td>\n      <td>-123.2738</td>\n    </tr>\n    <tr>\n      <th>442431</th>\n      <td>59150004005</td>\n      <td>50</td>\n      <td>49.3746</td>\n      <td>-123.2757</td>\n    </tr>\n    <tr>\n      <th>442432</th>\n      <td>59150004006</td>\n      <td>94</td>\n      <td>49.3738</td>\n      <td>-123.2763</td>\n    </tr>\n    <tr>\n      <th>442433</th>\n      <td>59150004011</td>\n      <td>0</td>\n      <td>49.3735</td>\n      <td>-123.2725</td>\n    </tr>\n    <tr>\n      <th>442434</th>\n      <td>59150004012</td>\n      <td>0</td>\n      <td>49.3725</td>\n      <td>-123.2729</td>\n    </tr>\n    <tr>\n      <th>...</th>\n      <td>...</td>\n      <td>...</td>\n      <td>...</td>\n      <td>...</td>\n    </tr>\n    <tr>\n      <th>457622</th>\n      <td>59154055002</td>\n      <td>0</td>\n      <td>49.0044</td>\n      <td>-122.4774</td>\n    </tr>\n    <tr>\n      <th>457623</th>\n      <td>59154055003</td>\n      <td>0</td>\n      <td>49.0036</td>\n      <td>-122.4762</td>\n    </tr>\n    <tr>\n      <th>457624</th>\n      <td>59154055004</td>\n      <td>386</td>\n      <td>49.0029</td>\n      <td>-122.4757</td>\n    </tr>\n    <tr>\n      <th>457625</th>\n      <td>59154055005</td>\n      <td>0</td>\n      <td>49.0062</td>\n      <td>-122.4772</td>\n    </tr>\n    <tr>\n      <th>457626</th>\n      <td>59154056001</td>\n      <td>85</td>\n      <td>49.0053</td>\n      <td>-122.4748</td>\n    </tr>\n  </tbody>\n</table>\n<p>15197 rows × 4 columns</p>\n</div>"
     },
     "metadata": {},
     "execution_count": 7
    }
   ],
   "source": [
    "DBsVan = DBs[['DBUID','CMANAME','DBPOP','lat','lon']]\n",
    "DBsVan.rename(columns = {'DBUID':'id'}, inplace = True)\n",
    "DBsVanD = DBsVan[DBsVan['CMANAME'] == 'Vancouver']\n",
    "DBsVanD.drop(columns='CMANAME')"
   ]
  },
  {
   "cell_type": "code",
   "execution_count": 8,
   "metadata": {},
   "outputs": [],
   "source": [
    "DBsVanD.to_csv('vancouver_db.csv')"
   ]
  },
  {
   "cell_type": "code",
   "execution_count": null,
   "metadata": {},
   "outputs": [],
   "source": []
  }
 ]
}